{
 "cells": [
  {
   "cell_type": "code",
   "execution_count": 1,
   "metadata": {},
   "outputs": [],
   "source": [
    "from credentials import token"
   ]
  },
  {
   "cell_type": "code",
   "execution_count": 2,
   "metadata": {},
   "outputs": [],
   "source": [
    "from qiskit import ClassicalRegister, QuantumRegister, QuantumCircuit\n",
    "from qiskit.tools.visualization import circuit_drawer, plot_histogram"
   ]
  },
  {
   "cell_type": "code",
   "execution_count": 3,
   "metadata": {},
   "outputs": [],
   "source": [
    "class Circuit:\n",
    "    def __init__(self, secret):\n",
    "        self.input = QuantumRegister(4)\n",
    "        self.temp = QuantumRegister(1)\n",
    "        self.result = ClassicalRegister(4)\n",
    "        self.secret = secret\n",
    "        \n",
    "        self.circuit = QuantumCircuit(self.input, self.temp, self.result)\n",
    "        self.circuit.x(self.temp[0])\n",
    "        self.circuit.h(self.input)\n",
    "        self.circuit.h(self.temp)\n",
    "        self.circuit += self.oracle()\n",
    "        self.circuit.h(self.input)\n",
    "        self.circuit.h(self.temp)\n",
    "        self.circuit.measure(self.input, self.result)\n",
    "    \n",
    "    def oracle(self):\n",
    "        o = QuantumCircuit(self.input, self.temp, self.result)\n",
    "        for i in range(len(self.input)):\n",
    "            if(self.secret & (1 << i)):\n",
    "                o.cx(self.input[i], self.temp[0])\n",
    "        \n",
    "        return o"
   ]
  },
  {
   "cell_type": "code",
   "execution_count": 4,
   "metadata": {},
   "outputs": [
    {
     "data": {
      "text/plain": [
       "{'qiskit': '0.11.0',\n",
       " 'qiskit-terra': '0.8.2',\n",
       " 'qiskit-ignis': '0.1.1',\n",
       " 'qiskit-aer': '0.2.3',\n",
       " 'qiskit-ibmq-provider': '0.3.0',\n",
       " 'qiskit-aqua': '0.5.2'}"
      ]
     },
     "execution_count": 4,
     "metadata": {},
     "output_type": "execute_result"
    }
   ],
   "source": [
    "import qiskit\n",
    "qiskit.__qiskit_version__"
   ]
  },
  {
   "cell_type": "code",
   "execution_count": 5,
   "metadata": {},
   "outputs": [
    {
     "name": "stderr",
     "output_type": "stream",
     "text": [
      "/usr/local/lib/python3.7/site-packages/qiskit/providers/ibmq/credentials/configrc.py:130: UserWarning: Credentials already present. Set overwrite=True to overwrite.\n",
      "  warnings.warn('Credentials already present. '\n"
     ]
    }
   ],
   "source": [
    "from qiskit import IBMQ\n",
    "IBMQ.save_account(token)"
   ]
  },
  {
   "cell_type": "code",
   "execution_count": 6,
   "metadata": {},
   "outputs": [],
   "source": [
    "from qiskit import Aer, execute"
   ]
  },
  {
   "cell_type": "code",
   "execution_count": 7,
   "metadata": {},
   "outputs": [],
   "source": [
    "provider = IBMQ.load_account()"
   ]
  },
  {
   "cell_type": "code",
   "execution_count": 8,
   "metadata": {},
   "outputs": [
    {
     "data": {
      "text/plain": [
       "[<IBMQSimulator('ibmq_qasm_simulator') from IBMQ(hub='ibm-q', group='open', project='main')>,\n",
       " <IBMQBackend('ibmqx4') from IBMQ(hub='ibm-q', group='open', project='main')>,\n",
       " <IBMQBackend('ibmqx2') from IBMQ(hub='ibm-q', group='open', project='main')>,\n",
       " <IBMQBackend('ibmq_16_melbourne') from IBMQ(hub='ibm-q', group='open', project='main')>]"
      ]
     },
     "execution_count": 8,
     "metadata": {},
     "output_type": "execute_result"
    }
   ],
   "source": [
    "provider.backends()"
   ]
  },
  {
   "cell_type": "code",
   "execution_count": 9,
   "metadata": {},
   "outputs": [],
   "source": [
    "backend = provider.get_backend('ibmqx2')"
   ]
  },
  {
   "cell_type": "code",
   "execution_count": 10,
   "metadata": {},
   "outputs": [],
   "source": [
    "bv = Circuit(12)"
   ]
  },
  {
   "cell_type": "code",
   "execution_count": 11,
   "metadata": {},
   "outputs": [
    {
     "data": {
      "text/html": [
       "<pre style=\"word-wrap: normal;white-space: pre;line-height: 15px;\">         ┌───┐┌───┐     ┌─┐                   \n",
       "q0_0: |0>┤ H ├┤ H ├─────┤M├───────────────────\n",
       "         ├───┤├───┤     └╥┘┌─┐                \n",
       "q0_1: |0>┤ H ├┤ H ├──────╫─┤M├────────────────\n",
       "         ├───┤└───┘      ║ └╥┘┌───┐┌─┐        \n",
       "q0_2: |0>┤ H ├───────■───╫──╫─┤ H ├┤M├────────\n",
       "         ├───┤       │   ║  ║ └───┘└╥┘┌───┐┌─┐\n",
       "q0_3: |0>┤ H ├───────┼───╫──╫───■───╫─┤ H ├┤M├\n",
       "         ├───┤┌───┐┌─┴─┐ ║  ║ ┌─┴─┐ ║ ├───┤└╥┘\n",
       "q1_0: |0>┤ X ├┤ H ├┤ X ├─╫──╫─┤ X ├─╫─┤ H ├─╫─\n",
       "         └───┘└───┘└───┘ ║  ║ └───┘ ║ └───┘ ║ \n",
       " c0_0: 0 ════════════════╩══╬═══════╬═══════╬═\n",
       "                            ║       ║       ║ \n",
       " c0_1: 0 ═══════════════════╩═══════╬═══════╬═\n",
       "                                    ║       ║ \n",
       " c0_2: 0 ═══════════════════════════╩═══════╬═\n",
       "                                            ║ \n",
       " c0_3: 0 ═══════════════════════════════════╩═\n",
       "                                              </pre>"
      ],
      "text/plain": [
       "<qiskit.visualization.text.TextDrawing at 0x1218b48d0>"
      ]
     },
     "execution_count": 11,
     "metadata": {},
     "output_type": "execute_result"
    }
   ],
   "source": [
    "circuit_drawer(bv.circuit)"
   ]
  },
  {
   "cell_type": "code",
   "execution_count": 12,
   "metadata": {},
   "outputs": [],
   "source": [
    "result = execute(bv.circuit, backend).result()"
   ]
  },
  {
   "cell_type": "code",
   "execution_count": 13,
   "metadata": {},
   "outputs": [],
   "source": [
    "counts = result.get_counts()"
   ]
  },
  {
   "cell_type": "code",
   "execution_count": 14,
   "metadata": {},
   "outputs": [
    {
     "data": {
      "text/plain": [
       "{'1100': 727,\n",
       " '0101': 2,\n",
       " '0000': 27,\n",
       " '0110': 5,\n",
       " '1000': 128,\n",
       " '1110': 16,\n",
       " '1001': 3,\n",
       " '1011': 1,\n",
       " '1010': 3,\n",
       " '0100': 98,\n",
       " '1101': 14}"
      ]
     },
     "execution_count": 14,
     "metadata": {},
     "output_type": "execute_result"
    }
   ],
   "source": [
    "counts"
   ]
  },
  {
   "cell_type": "code",
   "execution_count": 15,
   "metadata": {},
   "outputs": [
    {
     "data": {
      "image/png": "[encoded data removed]",
      "text/plain": [
       "<Figure size 504x360 with 1 Axes>"
      ]
     },
     "execution_count": 15,
     "metadata": {},
     "output_type": "execute_result"
    }
   ],
   "source": [
    "plot_histogram(counts)"
   ]
  },
  {
   "cell_type": "code",
   "execution_count": 16,
   "metadata": {},
   "outputs": [
    {
     "data": {
      "text/plain": [
       "12"
      ]
     },
     "execution_count": 16,
     "metadata": {},
     "output_type": "execute_result"
    }
   ],
   "source": [
    "int(max(counts, key=counts.get), 2)"
   ]
  },
  {
   "cell_type": "code",
   "execution_count": null,
   "metadata": {},
   "outputs": [],
   "source": []
  }
 ],
 "metadata": {
  "kernelspec": {
   "display_name": "Python 3",
   "language": "python",
   "name": "python3"
  },
  "language_info": {
   "codemirror_mode": {
    "name": "ipython",
    "version": 3
   },
   "file_extension": ".py",
   "mimetype": "text/x-python",
   "name": "python",
   "nbconvert_exporter": "python",
   "pygments_lexer": "ipython3",
   "version": "3.7.3"
  }
 },
 "nbformat": 4,
 "nbformat_minor": 2
}
